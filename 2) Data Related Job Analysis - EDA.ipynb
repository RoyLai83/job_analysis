{
 "cells": [
  {
   "cell_type": "code",
   "execution_count": 1,
   "metadata": {},
   "outputs": [],
   "source": [
    "import pandas as pd\n",
    "import seaborn as sns\n",
    "import scipy.stats as stats\n",
    "\n",
    "import re"
   ]
  },
  {
   "cell_type": "code",
   "execution_count": 2,
   "metadata": {},
   "outputs": [],
   "source": [
    "file = './data_cleaned.csv'\n",
    "data = pd.read_csv(file)"
   ]
  },
  {
   "cell_type": "code",
   "execution_count": 3,
   "metadata": {},
   "outputs": [
    {
     "data": {
      "text/html": [
       "<div>\n",
       "<style scoped>\n",
       "    .dataframe tbody tr th:only-of-type {\n",
       "        vertical-align: middle;\n",
       "    }\n",
       "\n",
       "    .dataframe tbody tr th {\n",
       "        vertical-align: top;\n",
       "    }\n",
       "\n",
       "    .dataframe thead th {\n",
       "        text-align: right;\n",
       "    }\n",
       "</style>\n",
       "<table border=\"1\" class=\"dataframe\">\n",
       "  <thead>\n",
       "    <tr style=\"text-align: right;\">\n",
       "      <th></th>\n",
       "      <th>Unnamed: 0</th>\n",
       "      <th>advertiser</th>\n",
       "      <th>industry</th>\n",
       "      <th>job_category</th>\n",
       "      <th>job_description</th>\n",
       "      <th>job_title</th>\n",
       "      <th>job_type</th>\n",
       "      <th>link</th>\n",
       "      <th>location</th>\n",
       "      <th>posting_date</th>\n",
       "      <th>search_word</th>\n",
       "      <th>sub_location</th>\n",
       "      <th>salary_cleaned</th>\n",
       "      <th>job_categorised</th>\n",
       "      <th>industry_categorised</th>\n",
       "    </tr>\n",
       "  </thead>\n",
       "  <tbody>\n",
       "    <tr>\n",
       "      <th>0</th>\n",
       "      <td>0</td>\n",
       "      <td>Ambition Technology</td>\n",
       "      <td>Information &amp; Communication Technology</td>\n",
       "      <td>Engineering - Software</td>\n",
       "      <td>Our client, a Major Australian University are ...</td>\n",
       "      <td>Senior Data Engineer</td>\n",
       "      <td>Full Time</td>\n",
       "      <td>https://www.seek.com.au/job/39024106?type=stan...</td>\n",
       "      <td>Brisbane</td>\n",
       "      <td>15 May 2019</td>\n",
       "      <td>data scientist</td>\n",
       "      <td>CBD &amp; Inner Suburbs</td>\n",
       "      <td>120000.0</td>\n",
       "      <td>seinor data engineer</td>\n",
       "      <td>technology</td>\n",
       "    </tr>\n",
       "    <tr>\n",
       "      <th>1</th>\n",
       "      <td>1</td>\n",
       "      <td>Randstad - Technologies</td>\n",
       "      <td>Information &amp; Communication Technology</td>\n",
       "      <td>Database Development &amp; Administration</td>\n",
       "      <td>The Data Engineer (Cloud/Data Lake) will play ...</td>\n",
       "      <td>Data Engineer - Cloud / Data Lake</td>\n",
       "      <td>Full Time</td>\n",
       "      <td>https://www.seek.com.au/job/39015517?type=stan...</td>\n",
       "      <td>Brisbane</td>\n",
       "      <td>14 May 2019</td>\n",
       "      <td>data scientist</td>\n",
       "      <td>CBD &amp; Inner Suburbs</td>\n",
       "      <td>111526.0</td>\n",
       "      <td>data engineer</td>\n",
       "      <td>technology</td>\n",
       "    </tr>\n",
       "    <tr>\n",
       "      <th>2</th>\n",
       "      <td>2</td>\n",
       "      <td>PRA</td>\n",
       "      <td>Information &amp; Communication Technology</td>\n",
       "      <td>Consultants</td>\n",
       "      <td>Brisbane CBD location - Permanent full time ro...</td>\n",
       "      <td>Data Engineer</td>\n",
       "      <td>Full Time</td>\n",
       "      <td>https://www.seek.com.au/job/38998989?type=stan...</td>\n",
       "      <td>Brisbane</td>\n",
       "      <td>11 May 2019</td>\n",
       "      <td>data scientist</td>\n",
       "      <td>CBD &amp; Inner Suburbs</td>\n",
       "      <td>111526.0</td>\n",
       "      <td>data engineer</td>\n",
       "      <td>technology</td>\n",
       "    </tr>\n",
       "    <tr>\n",
       "      <th>3</th>\n",
       "      <td>3</td>\n",
       "      <td>Synergy Placements</td>\n",
       "      <td>Information &amp; Communication Technology</td>\n",
       "      <td>Developers/Programmers</td>\n",
       "      <td>Contract role Large QLD organisation Brisbane...</td>\n",
       "      <td>Data Engineer Brisbane</td>\n",
       "      <td>Contract/Temp</td>\n",
       "      <td>https://www.seek.com.au/job/38957267?type=stan...</td>\n",
       "      <td>Brisbane</td>\n",
       "      <td>7 May 2019</td>\n",
       "      <td>data scientist</td>\n",
       "      <td>CBD &amp; Inner Suburbs</td>\n",
       "      <td>208000.0</td>\n",
       "      <td>data engineer</td>\n",
       "      <td>technology</td>\n",
       "    </tr>\n",
       "    <tr>\n",
       "      <th>4</th>\n",
       "      <td>4</td>\n",
       "      <td>GRIT Talent Consulting</td>\n",
       "      <td>Information &amp; Communication Technology</td>\n",
       "      <td>Database Development &amp; Administration</td>\n",
       "      <td>We are seeking an experienced Data Engineer fo...</td>\n",
       "      <td>Data Engineer</td>\n",
       "      <td>Contract/Temp</td>\n",
       "      <td>https://www.seek.com.au/job/38943938?type=stan...</td>\n",
       "      <td>Brisbane</td>\n",
       "      <td>3 May 2019</td>\n",
       "      <td>data scientist</td>\n",
       "      <td>NaN</td>\n",
       "      <td>208000.0</td>\n",
       "      <td>data engineer</td>\n",
       "      <td>technology</td>\n",
       "    </tr>\n",
       "  </tbody>\n",
       "</table>\n",
       "</div>"
      ],
      "text/plain": [
       "   Unnamed: 0               advertiser  \\\n",
       "0           0      Ambition Technology   \n",
       "1           1  Randstad - Technologies   \n",
       "2           2                      PRA   \n",
       "3           3       Synergy Placements   \n",
       "4           4   GRIT Talent Consulting   \n",
       "\n",
       "                                 industry  \\\n",
       "0  Information & Communication Technology   \n",
       "1  Information & Communication Technology   \n",
       "2  Information & Communication Technology   \n",
       "3  Information & Communication Technology   \n",
       "4  Information & Communication Technology   \n",
       "\n",
       "                            job_category  \\\n",
       "0                 Engineering - Software   \n",
       "1  Database Development & Administration   \n",
       "2                            Consultants   \n",
       "3                 Developers/Programmers   \n",
       "4  Database Development & Administration   \n",
       "\n",
       "                                     job_description  \\\n",
       "0  Our client, a Major Australian University are ...   \n",
       "1  The Data Engineer (Cloud/Data Lake) will play ...   \n",
       "2  Brisbane CBD location - Permanent full time ro...   \n",
       "3   Contract role Large QLD organisation Brisbane...   \n",
       "4  We are seeking an experienced Data Engineer fo...   \n",
       "\n",
       "                           job_title       job_type  \\\n",
       "0               Senior Data Engineer      Full Time   \n",
       "1  Data Engineer - Cloud / Data Lake      Full Time   \n",
       "2                      Data Engineer      Full Time   \n",
       "3             Data Engineer Brisbane  Contract/Temp   \n",
       "4                      Data Engineer  Contract/Temp   \n",
       "\n",
       "                                                link  location posting_date  \\\n",
       "0  https://www.seek.com.au/job/39024106?type=stan...  Brisbane  15 May 2019   \n",
       "1  https://www.seek.com.au/job/39015517?type=stan...  Brisbane  14 May 2019   \n",
       "2  https://www.seek.com.au/job/38998989?type=stan...  Brisbane  11 May 2019   \n",
       "3  https://www.seek.com.au/job/38957267?type=stan...  Brisbane   7 May 2019   \n",
       "4  https://www.seek.com.au/job/38943938?type=stan...  Brisbane   3 May 2019   \n",
       "\n",
       "      search_word         sub_location  salary_cleaned       job_categorised  \\\n",
       "0  data scientist  CBD & Inner Suburbs        120000.0  seinor data engineer   \n",
       "1  data scientist  CBD & Inner Suburbs        111526.0         data engineer   \n",
       "2  data scientist  CBD & Inner Suburbs        111526.0         data engineer   \n",
       "3  data scientist  CBD & Inner Suburbs        208000.0         data engineer   \n",
       "4  data scientist                  NaN        208000.0         data engineer   \n",
       "\n",
       "  industry_categorised  \n",
       "0           technology  \n",
       "1           technology  \n",
       "2           technology  \n",
       "3           technology  \n",
       "4           technology  "
      ]
     },
     "execution_count": 3,
     "metadata": {},
     "output_type": "execute_result"
    }
   ],
   "source": [
    "data.head()"
   ]
  },
  {
   "cell_type": "code",
   "execution_count": 4,
   "metadata": {},
   "outputs": [],
   "source": [
    "data.drop('Unnamed: 0',axis=1,inplace=True)"
   ]
  },
  {
   "cell_type": "code",
   "execution_count": 5,
   "metadata": {},
   "outputs": [
    {
     "name": "stderr",
     "output_type": "stream",
     "text": [
      "C:\\Users\\Roy\\Anaconda3\\lib\\site-packages\\scipy\\stats\\stats.py:1713: FutureWarning: Using a non-tuple sequence for multidimensional indexing is deprecated; use `arr[tuple(seq)]` instead of `arr[seq]`. In the future this will be interpreted as an array index, `arr[np.array(seq)]`, which will result either in an error or a different result.\n",
      "  return np.add.reduce(sorted[indexer] * weights, axis=axis) / sumval\n"
     ]
    },
    {
     "data": {
      "text/plain": [
       "<matplotlib.axes._subplots.AxesSubplot at 0x1ea9560a2b0>"
      ]
     },
     "execution_count": 5,
     "metadata": {},
     "output_type": "execute_result"
    },
    {
     "data": {
      "image/png": "[encoded data removed]",
      "text/plain": [
       "<Figure size 432x288 with 1 Axes>"
      ]
     },
     "metadata": {
      "needs_background": "light"
     },
     "output_type": "display_data"
    }
   ],
   "source": [
    "sns.distplot(data.salary_cleaned,bins=20)"
   ]
  },
  {
   "cell_type": "markdown",
   "metadata": {},
   "source": [
    "Looking at salary, it looks like our average is around $120,000 - $130,000 with a slight positive skew.\n",
    "\n",
    "Next, let's have a look at the financie and technology industries seperately."
   ]
  },
  {
   "cell_type": "code",
   "execution_count": 6,
   "metadata": {},
   "outputs": [
    {
     "data": {
      "text/plain": [
       "<matplotlib.axes._subplots.AxesSubplot at 0x1ea9575bba8>"
      ]
     },
     "execution_count": 6,
     "metadata": {},
     "output_type": "execute_result"
    },
    {
     "data": {
      "image/png": "[encoded data removed]",
      "text/plain": [
       "<Figure size 432x288 with 1 Axes>"
      ]
     },
     "metadata": {
      "needs_background": "light"
     },
     "output_type": "display_data"
    }
   ],
   "source": [
    "sns.distplot(data[data['industry_categorised'] == 'technology'].salary_cleaned,bins=20)"
   ]
  },
  {
   "cell_type": "markdown",
   "metadata": {},
   "source": [
    "The salary for technology is almost identical to the overall salary distribution. This makes sense as most of our data is for the technology industry."
   ]
  },
  {
   "cell_type": "code",
   "execution_count": 7,
   "metadata": {},
   "outputs": [
    {
     "data": {
      "text/plain": [
       "<matplotlib.axes._subplots.AxesSubplot at 0x1ea958027b8>"
      ]
     },
     "execution_count": 7,
     "metadata": {},
     "output_type": "execute_result"
    },
    {
     "data": {
      "image/png": "[encoded data removed]",
      "text/plain": [
       "<Figure size 432x288 with 1 Axes>"
      ]
     },
     "metadata": {
      "needs_background": "light"
     },
     "output_type": "display_data"
    }
   ],
   "source": [
    "sns.distplot(data[data['industry_categorised'] == 'finance'].salary_cleaned,bins=5)"
   ]
  },
  {
   "cell_type": "markdown",
   "metadata": {},
   "source": [
    "With finance, it looks bi-modal although this may be due to the way the salaries were imputed. Most of the salaries seem to be concentrated around just below $100,000"
   ]
  },
  {
   "cell_type": "code",
   "execution_count": 8,
   "metadata": {},
   "outputs": [
    {
     "data": {
      "text/plain": [
       "<matplotlib.axes._subplots.AxesSubplot at 0x1ea9586b860>"
      ]
     },
     "execution_count": 8,
     "metadata": {},
     "output_type": "execute_result"
    },
    {
     "data": {
      "image/png": "[encoded data removed]",
      "text/plain": [
       "<Figure size 432x288 with 1 Axes>"
      ]
     },
     "metadata": {
      "needs_background": "light"
     },
     "output_type": "display_data"
    }
   ],
   "source": [
    "sns.distplot(data[data['industry_categorised'] == 'other'].salary_cleaned,bins=10)"
   ]
  },
  {
   "cell_type": "markdown",
   "metadata": {},
   "source": [
    "As with the Finance, the salaries seemed to be centered around $100,000 and is positively skewed."
   ]
  },
  {
   "cell_type": "code",
   "execution_count": 9,
   "metadata": {},
   "outputs": [
    {
     "data": {
      "text/plain": [
       "<matplotlib.axes._subplots.AxesSubplot at 0x1ea958c3748>"
      ]
     },
     "execution_count": 9,
     "metadata": {},
     "output_type": "execute_result"
    },
    {
     "data": {
      "image/png": "[encoded data removed]",
      "text/plain": [
       "<Figure size 432x288 with 1 Axes>"
      ]
     },
     "metadata": {
      "needs_background": "light"
     },
     "output_type": "display_data"
    }
   ],
   "source": [
    "data.groupby('industry_categorised').salary_cleaned.mean().plot(kind='bar')"
   ]
  },
  {
   "cell_type": "code",
   "execution_count": 10,
   "metadata": {},
   "outputs": [
    {
     "data": {
      "text/plain": [
       "Ttest_indResult(statistic=2.000166021293857, pvalue=0.04595379854052448)"
      ]
     },
     "execution_count": 10,
     "metadata": {},
     "output_type": "execute_result"
    }
   ],
   "source": [
    "stats.ttest_ind(data[data['industry_categorised']=='technology'].salary_cleaned,data[data['industry_categorised']=='finance'].salary_cleaned)"
   ]
  },
  {
   "cell_type": "markdown",
   "metadata": {},
   "source": [
    "H_0: The average salary is the same for technology and finance industries.\n",
    "H_0: mu_technology - mu_finance = 0\n",
    "\n",
    "H_A: The average salary is different for technology and finance industries.\n",
    "H_A: mu_technology - mu_finance != 0\n",
    "\n",
    "We will use an alpha of 0.05.\n",
    "\n",
    "The result of our test is a P-value is lower than 0.05. That is, at a 95% confidence level, we reject our null hypothesis that the average salary for technology and finance industries are the same."
   ]
  },
  {
   "cell_type": "code",
   "execution_count": 11,
   "metadata": {},
   "outputs": [
    {
     "data": {
      "text/plain": [
       "Ttest_indResult(statistic=-1.5973334949259548, pvalue=0.11288876674817365)"
      ]
     },
     "execution_count": 11,
     "metadata": {},
     "output_type": "execute_result"
    }
   ],
   "source": [
    "stats.ttest_ind(data[data['industry_categorised']=='other'].salary_cleaned,data[data['industry_categorised']=='finance'].salary_cleaned)"
   ]
  },
  {
   "cell_type": "markdown",
   "metadata": {},
   "source": [
    "H_0: The average salary is the same for technology and finance industries.\n",
    "H_0: mu_other - mu_finance = 0\n",
    "\n",
    "H_A: The average salary is different for technology and finance industries.\n",
    "H_A: mu_other - mu_finance != 0\n",
    "\n",
    "We will use an alpha of 0.05.\n",
    "\n",
    "The result of our test is a P-value is higher than 0.05. That is, at a 95% confidence level, we fail to reject our null hypothesis that the average salary for other and finance industries are the same."
   ]
  },
  {
   "cell_type": "markdown",
   "metadata": {},
   "source": [
    "Looking at the average salary for the 3 industries, technology was the highest, followed by finance, followed by the remaining industries grouped together."
   ]
  },
  {
   "cell_type": "code",
   "execution_count": 12,
   "metadata": {},
   "outputs": [
    {
     "data": {
      "text/plain": [
       "<matplotlib.axes._subplots.AxesSubplot at 0x1ea95962e80>"
      ]
     },
     "execution_count": 12,
     "metadata": {},
     "output_type": "execute_result"
    },
    {
     "data": {
      "image/png": "[encoded data removed]",
      "text/plain": [
       "<Figure size 432x288 with 1 Axes>"
      ]
     },
     "metadata": {
      "needs_background": "light"
     },
     "output_type": "display_data"
    }
   ],
   "source": [
    "data.groupby('location').salary_cleaned.mean().plot(kind='bar')"
   ]
  },
  {
   "cell_type": "code",
   "execution_count": 13,
   "metadata": {},
   "outputs": [
    {
     "data": {
      "text/plain": [
       "Ttest_indResult(statistic=1.1181973273003194, pvalue=0.2641203752882583)"
      ]
     },
     "execution_count": 13,
     "metadata": {},
     "output_type": "execute_result"
    }
   ],
   "source": [
    "stats.ttest_ind(data[data['location']=='Sydney'].salary_cleaned,data[data['location']=='Brisbane'].salary_cleaned)"
   ]
  },
  {
   "cell_type": "markdown",
   "metadata": {},
   "source": [
    "H_0: The average salary is the same for Sydney and Brisbane.\n",
    "H_0: mu_Sydney - mu_Brisbane = 0\n",
    "\n",
    "H_A: The average salary is different for Sydney and Brisbane.\n",
    "H_A: mu_Sydney - mu_Brisbane != 0\n",
    "\n",
    "We will use an alpha of 0.05.\n",
    "\n",
    "The result of our test is a P-value is higher than 0.05. That is, at a 95% confidence level, we fail to reject our null hypothesis that the average salary for Sydney and Brisbane is the same."
   ]
  },
  {
   "cell_type": "code",
   "execution_count": 14,
   "metadata": {},
   "outputs": [
    {
     "data": {
      "text/plain": [
       "Ttest_indResult(statistic=-1.1532027942409582, pvalue=0.24979679902798024)"
      ]
     },
     "execution_count": 14,
     "metadata": {},
     "output_type": "execute_result"
    }
   ],
   "source": [
    "stats.ttest_ind(data[data['location']=='Melbourne'].salary_cleaned,data[data['location']=='Brisbane'].salary_cleaned)"
   ]
  },
  {
   "cell_type": "code",
   "execution_count": 19,
   "metadata": {},
   "outputs": [
    {
     "data": {
      "text/plain": [
       "Ttest_indResult(statistic=3.6263181739592145, pvalue=0.00031223134957257786)"
      ]
     },
     "execution_count": 19,
     "metadata": {},
     "output_type": "execute_result"
    }
   ],
   "source": [
    "stats.ttest_ind(data[data['location']=='Sydney'].salary_cleaned,data[data['location']=='Melbourne'].salary_cleaned)"
   ]
  },
  {
   "cell_type": "markdown",
   "metadata": {},
   "source": [
    "H_0: The average salary is the same for Melbourne and Brisbane.\n",
    "H_0: mu_Melbourne - mu_Brisbane = 0\n",
    "\n",
    "H_A: The average salary is different for Melbourne and Brisbane.\n",
    "H_A: mu_Melbourne - mu_Brisbane != 0\n",
    "\n",
    "We will use an alpha of 0.05.\n",
    "\n",
    "The result of our test is a P-value is higher than 0.05. That is, at a 95% confidence level, we fail to reject our null hypothesis that the average salary for Melbourne and Brisbane is the same."
   ]
  },
  {
   "cell_type": "markdown",
   "metadata": {},
   "source": [
    "Grouping by location, Sydney had the highest average salary, followed by Brisbane and Melbourne coming in last."
   ]
  },
  {
   "cell_type": "code",
   "execution_count": 15,
   "metadata": {},
   "outputs": [
    {
     "data": {
      "text/plain": [
       "<matplotlib.axes._subplots.AxesSubplot at 0x1ea959cf5c0>"
      ]
     },
     "execution_count": 15,
     "metadata": {},
     "output_type": "execute_result"
    },
    {
     "data": {
      "image/png": "[encoded data removed]",
      "text/plain": [
       "<Figure size 432x288 with 1 Axes>"
      ]
     },
     "metadata": {
      "needs_background": "light"
     },
     "output_type": "display_data"
    }
   ],
   "source": [
    "data.groupby('job_categorised').salary_cleaned.mean().plot(kind='bar')"
   ]
  },
  {
   "cell_type": "markdown",
   "metadata": {},
   "source": [
    "Looking at mean salary across different job categories. As expected Senior roles paid higher. Of the senior roles, data analysts seems to pay the highest on average, followed by data scientists.\n",
    "\n",
    "Academic roles were paid the lowest overall. If we are not looking at senior roles, out of data analyst, data engineer and data scientists, data scientist pay looks to be the highest on average."
   ]
  },
  {
   "cell_type": "code",
   "execution_count": 16,
   "metadata": {},
   "outputs": [
    {
     "data": {
      "text/html": [
       "<div>\n",
       "<style scoped>\n",
       "    .dataframe tbody tr th:only-of-type {\n",
       "        vertical-align: middle;\n",
       "    }\n",
       "\n",
       "    .dataframe tbody tr th {\n",
       "        vertical-align: top;\n",
       "    }\n",
       "\n",
       "    .dataframe thead th {\n",
       "        text-align: right;\n",
       "    }\n",
       "</style>\n",
       "<table border=\"1\" class=\"dataframe\">\n",
       "  <thead>\n",
       "    <tr style=\"text-align: right;\">\n",
       "      <th></th>\n",
       "      <th></th>\n",
       "      <th>count</th>\n",
       "      <th>mean</th>\n",
       "      <th>std</th>\n",
       "      <th>min</th>\n",
       "      <th>25%</th>\n",
       "      <th>50%</th>\n",
       "      <th>75%</th>\n",
       "      <th>max</th>\n",
       "    </tr>\n",
       "    <tr>\n",
       "      <th>job_categorised</th>\n",
       "      <th>job_type</th>\n",
       "      <th></th>\n",
       "      <th></th>\n",
       "      <th></th>\n",
       "      <th></th>\n",
       "      <th></th>\n",
       "      <th></th>\n",
       "      <th></th>\n",
       "      <th></th>\n",
       "    </tr>\n",
       "  </thead>\n",
       "  <tbody>\n",
       "    <tr>\n",
       "      <th>academic</th>\n",
       "      <th>Full Time</th>\n",
       "      <td>4.0</td>\n",
       "      <td>97536.500000</td>\n",
       "      <td>4896.251934</td>\n",
       "      <td>91188.0</td>\n",
       "      <td>95699.25</td>\n",
       "      <td>97969.0</td>\n",
       "      <td>99806.25</td>\n",
       "      <td>103020.0</td>\n",
       "    </tr>\n",
       "    <tr>\n",
       "      <th rowspan=\"2\" valign=\"top\">business intelligence</th>\n",
       "      <th>Contract/Temp</th>\n",
       "      <td>18.0</td>\n",
       "      <td>154066.666667</td>\n",
       "      <td>50485.734735</td>\n",
       "      <td>31200.0</td>\n",
       "      <td>115000.00</td>\n",
       "      <td>175500.0</td>\n",
       "      <td>195000.00</td>\n",
       "      <td>208000.0</td>\n",
       "    </tr>\n",
       "    <tr>\n",
       "      <th>Full Time</th>\n",
       "      <td>48.0</td>\n",
       "      <td>114797.604167</td>\n",
       "      <td>11965.122142</td>\n",
       "      <td>84000.0</td>\n",
       "      <td>110000.00</td>\n",
       "      <td>115000.0</td>\n",
       "      <td>120000.00</td>\n",
       "      <td>156000.0</td>\n",
       "    </tr>\n",
       "    <tr>\n",
       "      <th rowspan=\"2\" valign=\"top\">data analyst</th>\n",
       "      <th>Contract/Temp</th>\n",
       "      <td>91.0</td>\n",
       "      <td>131553.516484</td>\n",
       "      <td>22778.829996</td>\n",
       "      <td>60000.0</td>\n",
       "      <td>127400.00</td>\n",
       "      <td>130000.0</td>\n",
       "      <td>156000.00</td>\n",
       "      <td>182000.0</td>\n",
       "    </tr>\n",
       "    <tr>\n",
       "      <th>Full Time</th>\n",
       "      <td>115.0</td>\n",
       "      <td>100464.034783</td>\n",
       "      <td>19682.883989</td>\n",
       "      <td>60000.0</td>\n",
       "      <td>86575.50</td>\n",
       "      <td>100000.0</td>\n",
       "      <td>100000.00</td>\n",
       "      <td>208000.0</td>\n",
       "    </tr>\n",
       "    <tr>\n",
       "      <th rowspan=\"3\" valign=\"top\">data engineer</th>\n",
       "      <th>Casual/Vacation</th>\n",
       "      <td>1.0</td>\n",
       "      <td>120000.000000</td>\n",
       "      <td>NaN</td>\n",
       "      <td>120000.0</td>\n",
       "      <td>120000.00</td>\n",
       "      <td>120000.0</td>\n",
       "      <td>120000.00</td>\n",
       "      <td>120000.0</td>\n",
       "    </tr>\n",
       "    <tr>\n",
       "      <th>Contract/Temp</th>\n",
       "      <td>44.0</td>\n",
       "      <td>157938.181818</td>\n",
       "      <td>47485.771248</td>\n",
       "      <td>31200.0</td>\n",
       "      <td>104000.00</td>\n",
       "      <td>188500.0</td>\n",
       "      <td>188500.00</td>\n",
       "      <td>234000.0</td>\n",
       "    </tr>\n",
       "    <tr>\n",
       "      <th>Full Time</th>\n",
       "      <td>73.0</td>\n",
       "      <td>102391.342466</td>\n",
       "      <td>31285.233634</td>\n",
       "      <td>57000.0</td>\n",
       "      <td>70000.00</td>\n",
       "      <td>111526.0</td>\n",
       "      <td>120000.00</td>\n",
       "      <td>180000.0</td>\n",
       "    </tr>\n",
       "    <tr>\n",
       "      <th rowspan=\"2\" valign=\"top\">data scientist</th>\n",
       "      <th>Contract/Temp</th>\n",
       "      <td>23.0</td>\n",
       "      <td>175217.391304</td>\n",
       "      <td>47488.713034</td>\n",
       "      <td>78000.0</td>\n",
       "      <td>164000.00</td>\n",
       "      <td>164000.0</td>\n",
       "      <td>208000.00</td>\n",
       "      <td>312000.0</td>\n",
       "    </tr>\n",
       "    <tr>\n",
       "      <th>Full Time</th>\n",
       "      <td>49.0</td>\n",
       "      <td>132779.561224</td>\n",
       "      <td>42176.019290</td>\n",
       "      <td>90000.0</td>\n",
       "      <td>120000.00</td>\n",
       "      <td>130000.0</td>\n",
       "      <td>130000.00</td>\n",
       "      <td>390000.0</td>\n",
       "    </tr>\n",
       "    <tr>\n",
       "      <th rowspan=\"2\" valign=\"top\">seinor academic</th>\n",
       "      <th>Contract/Temp</th>\n",
       "      <td>1.0</td>\n",
       "      <td>113338.000000</td>\n",
       "      <td>NaN</td>\n",
       "      <td>113338.0</td>\n",
       "      <td>113338.00</td>\n",
       "      <td>113338.0</td>\n",
       "      <td>113338.00</td>\n",
       "      <td>113338.0</td>\n",
       "    </tr>\n",
       "    <tr>\n",
       "      <th>Full Time</th>\n",
       "      <td>4.0</td>\n",
       "      <td>113338.000000</td>\n",
       "      <td>0.000000</td>\n",
       "      <td>113338.0</td>\n",
       "      <td>113338.00</td>\n",
       "      <td>113338.0</td>\n",
       "      <td>113338.00</td>\n",
       "      <td>113338.0</td>\n",
       "    </tr>\n",
       "    <tr>\n",
       "      <th rowspan=\"2\" valign=\"top\">seinor business intelligence</th>\n",
       "      <th>Contract/Temp</th>\n",
       "      <td>21.0</td>\n",
       "      <td>157495.238095</td>\n",
       "      <td>46881.472632</td>\n",
       "      <td>100000.0</td>\n",
       "      <td>130000.00</td>\n",
       "      <td>130000.0</td>\n",
       "      <td>166400.00</td>\n",
       "      <td>273000.0</td>\n",
       "    </tr>\n",
       "    <tr>\n",
       "      <th>Full Time</th>\n",
       "      <td>38.0</td>\n",
       "      <td>130789.473684</td>\n",
       "      <td>24294.819707</td>\n",
       "      <td>100000.0</td>\n",
       "      <td>121875.00</td>\n",
       "      <td>130000.0</td>\n",
       "      <td>130000.00</td>\n",
       "      <td>220000.0</td>\n",
       "    </tr>\n",
       "    <tr>\n",
       "      <th rowspan=\"3\" valign=\"top\">seinor data analyst</th>\n",
       "      <th>Casual/Vacation</th>\n",
       "      <td>1.0</td>\n",
       "      <td>170000.000000</td>\n",
       "      <td>NaN</td>\n",
       "      <td>170000.0</td>\n",
       "      <td>170000.00</td>\n",
       "      <td>170000.0</td>\n",
       "      <td>170000.00</td>\n",
       "      <td>170000.0</td>\n",
       "    </tr>\n",
       "    <tr>\n",
       "      <th>Contract/Temp</th>\n",
       "      <td>15.0</td>\n",
       "      <td>218253.333333</td>\n",
       "      <td>45388.700083</td>\n",
       "      <td>170000.0</td>\n",
       "      <td>205400.00</td>\n",
       "      <td>221000.0</td>\n",
       "      <td>221000.00</td>\n",
       "      <td>364000.0</td>\n",
       "    </tr>\n",
       "    <tr>\n",
       "      <th>Full Time</th>\n",
       "      <td>35.0</td>\n",
       "      <td>146738.942857</td>\n",
       "      <td>37342.971418</td>\n",
       "      <td>81870.0</td>\n",
       "      <td>118513.00</td>\n",
       "      <td>123844.0</td>\n",
       "      <td>170000.00</td>\n",
       "      <td>247000.0</td>\n",
       "    </tr>\n",
       "    <tr>\n",
       "      <th rowspan=\"2\" valign=\"top\">seinor data engineer</th>\n",
       "      <th>Contract/Temp</th>\n",
       "      <td>4.0</td>\n",
       "      <td>164000.000000</td>\n",
       "      <td>50806.823689</td>\n",
       "      <td>120000.0</td>\n",
       "      <td>120000.00</td>\n",
       "      <td>164000.0</td>\n",
       "      <td>208000.00</td>\n",
       "      <td>208000.0</td>\n",
       "    </tr>\n",
       "    <tr>\n",
       "      <th>Full Time</th>\n",
       "      <td>30.0</td>\n",
       "      <td>126000.000000</td>\n",
       "      <td>12757.688689</td>\n",
       "      <td>90000.0</td>\n",
       "      <td>120000.00</td>\n",
       "      <td>120000.0</td>\n",
       "      <td>140000.00</td>\n",
       "      <td>140000.0</td>\n",
       "    </tr>\n",
       "    <tr>\n",
       "      <th rowspan=\"2\" valign=\"top\">seinor data scientist</th>\n",
       "      <th>Contract/Temp</th>\n",
       "      <td>7.0</td>\n",
       "      <td>229428.571429</td>\n",
       "      <td>76979.666456</td>\n",
       "      <td>130000.0</td>\n",
       "      <td>166000.00</td>\n",
       "      <td>253500.0</td>\n",
       "      <td>282750.00</td>\n",
       "      <td>325000.0</td>\n",
       "    </tr>\n",
       "    <tr>\n",
       "      <th>Full Time</th>\n",
       "      <td>30.0</td>\n",
       "      <td>141135.766667</td>\n",
       "      <td>28107.679850</td>\n",
       "      <td>84667.0</td>\n",
       "      <td>125000.00</td>\n",
       "      <td>150000.0</td>\n",
       "      <td>150000.00</td>\n",
       "      <td>200000.0</td>\n",
       "    </tr>\n",
       "  </tbody>\n",
       "</table>\n",
       "</div>"
      ],
      "text/plain": [
       "                                              count           mean  \\\n",
       "job_categorised              job_type                                \n",
       "academic                     Full Time          4.0   97536.500000   \n",
       "business intelligence        Contract/Temp     18.0  154066.666667   \n",
       "                             Full Time         48.0  114797.604167   \n",
       "data analyst                 Contract/Temp     91.0  131553.516484   \n",
       "                             Full Time        115.0  100464.034783   \n",
       "data engineer                Casual/Vacation    1.0  120000.000000   \n",
       "                             Contract/Temp     44.0  157938.181818   \n",
       "                             Full Time         73.0  102391.342466   \n",
       "data scientist               Contract/Temp     23.0  175217.391304   \n",
       "                             Full Time         49.0  132779.561224   \n",
       "seinor academic              Contract/Temp      1.0  113338.000000   \n",
       "                             Full Time          4.0  113338.000000   \n",
       "seinor business intelligence Contract/Temp     21.0  157495.238095   \n",
       "                             Full Time         38.0  130789.473684   \n",
       "seinor data analyst          Casual/Vacation    1.0  170000.000000   \n",
       "                             Contract/Temp     15.0  218253.333333   \n",
       "                             Full Time         35.0  146738.942857   \n",
       "seinor data engineer         Contract/Temp      4.0  164000.000000   \n",
       "                             Full Time         30.0  126000.000000   \n",
       "seinor data scientist        Contract/Temp      7.0  229428.571429   \n",
       "                             Full Time         30.0  141135.766667   \n",
       "\n",
       "                                                       std       min  \\\n",
       "job_categorised              job_type                                  \n",
       "academic                     Full Time         4896.251934   91188.0   \n",
       "business intelligence        Contract/Temp    50485.734735   31200.0   \n",
       "                             Full Time        11965.122142   84000.0   \n",
       "data analyst                 Contract/Temp    22778.829996   60000.0   \n",
       "                             Full Time        19682.883989   60000.0   \n",
       "data engineer                Casual/Vacation           NaN  120000.0   \n",
       "                             Contract/Temp    47485.771248   31200.0   \n",
       "                             Full Time        31285.233634   57000.0   \n",
       "data scientist               Contract/Temp    47488.713034   78000.0   \n",
       "                             Full Time        42176.019290   90000.0   \n",
       "seinor academic              Contract/Temp             NaN  113338.0   \n",
       "                             Full Time            0.000000  113338.0   \n",
       "seinor business intelligence Contract/Temp    46881.472632  100000.0   \n",
       "                             Full Time        24294.819707  100000.0   \n",
       "seinor data analyst          Casual/Vacation           NaN  170000.0   \n",
       "                             Contract/Temp    45388.700083  170000.0   \n",
       "                             Full Time        37342.971418   81870.0   \n",
       "seinor data engineer         Contract/Temp    50806.823689  120000.0   \n",
       "                             Full Time        12757.688689   90000.0   \n",
       "seinor data scientist        Contract/Temp    76979.666456  130000.0   \n",
       "                             Full Time        28107.679850   84667.0   \n",
       "\n",
       "                                                    25%       50%        75%  \\\n",
       "job_categorised              job_type                                          \n",
       "academic                     Full Time         95699.25   97969.0   99806.25   \n",
       "business intelligence        Contract/Temp    115000.00  175500.0  195000.00   \n",
       "                             Full Time        110000.00  115000.0  120000.00   \n",
       "data analyst                 Contract/Temp    127400.00  130000.0  156000.00   \n",
       "                             Full Time         86575.50  100000.0  100000.00   \n",
       "data engineer                Casual/Vacation  120000.00  120000.0  120000.00   \n",
       "                             Contract/Temp    104000.00  188500.0  188500.00   \n",
       "                             Full Time         70000.00  111526.0  120000.00   \n",
       "data scientist               Contract/Temp    164000.00  164000.0  208000.00   \n",
       "                             Full Time        120000.00  130000.0  130000.00   \n",
       "seinor academic              Contract/Temp    113338.00  113338.0  113338.00   \n",
       "                             Full Time        113338.00  113338.0  113338.00   \n",
       "seinor business intelligence Contract/Temp    130000.00  130000.0  166400.00   \n",
       "                             Full Time        121875.00  130000.0  130000.00   \n",
       "seinor data analyst          Casual/Vacation  170000.00  170000.0  170000.00   \n",
       "                             Contract/Temp    205400.00  221000.0  221000.00   \n",
       "                             Full Time        118513.00  123844.0  170000.00   \n",
       "seinor data engineer         Contract/Temp    120000.00  164000.0  208000.00   \n",
       "                             Full Time        120000.00  120000.0  140000.00   \n",
       "seinor data scientist        Contract/Temp    166000.00  253500.0  282750.00   \n",
       "                             Full Time        125000.00  150000.0  150000.00   \n",
       "\n",
       "                                                   max  \n",
       "job_categorised              job_type                   \n",
       "academic                     Full Time        103020.0  \n",
       "business intelligence        Contract/Temp    208000.0  \n",
       "                             Full Time        156000.0  \n",
       "data analyst                 Contract/Temp    182000.0  \n",
       "                             Full Time        208000.0  \n",
       "data engineer                Casual/Vacation  120000.0  \n",
       "                             Contract/Temp    234000.0  \n",
       "                             Full Time        180000.0  \n",
       "data scientist               Contract/Temp    312000.0  \n",
       "                             Full Time        390000.0  \n",
       "seinor academic              Contract/Temp    113338.0  \n",
       "                             Full Time        113338.0  \n",
       "seinor business intelligence Contract/Temp    273000.0  \n",
       "                             Full Time        220000.0  \n",
       "seinor data analyst          Casual/Vacation  170000.0  \n",
       "                             Contract/Temp    364000.0  \n",
       "                             Full Time        247000.0  \n",
       "seinor data engineer         Contract/Temp    208000.0  \n",
       "                             Full Time        140000.0  \n",
       "seinor data scientist        Contract/Temp    325000.0  \n",
       "                             Full Time        200000.0  "
      ]
     },
     "execution_count": 16,
     "metadata": {},
     "output_type": "execute_result"
    }
   ],
   "source": [
    "data.groupby(['job_categorised','job_type']).salary_cleaned.describe()"
   ]
  },
  {
   "cell_type": "code",
   "execution_count": 17,
   "metadata": {},
   "outputs": [
    {
     "data": {
      "text/plain": [
       "location   sub_location                       \n",
       "Brisbane   Bayside & Eastern Suburbs              109720.0\n",
       "           CBD & Inner Suburbs                    127400.0\n",
       "           Northern Suburbs                       130000.0\n",
       "           Southern Suburbs & Logan               131560.0\n",
       "Melbourne  Bayside & South Eastern Suburbs        115000.0\n",
       "           CBD & Inner Suburbs                    117500.0\n",
       "           Eastern Suburbs                        110000.0\n",
       "           Northern Suburbs                       110000.0\n",
       "           Western Suburbs                         83151.0\n",
       "Sydney     CBD, Inner West & Eastern Suburbs      120000.0\n",
       "           North Shore & Northern Beaches         116756.5\n",
       "           North West & Hills District            130000.0\n",
       "           Parramatta & Western Suburbs           130000.0\n",
       "           Ryde & Macquarie Park                  120000.0\n",
       "           South West & M5 Corridor                80000.0\n",
       "           Southern Suburbs & Sutherland Shire    138000.0\n",
       "Name: salary_cleaned, dtype: float64"
      ]
     },
     "execution_count": 17,
     "metadata": {},
     "output_type": "execute_result"
    }
   ],
   "source": [
    "data.groupby(['location','sub_location']).salary_cleaned.median()"
   ]
  },
  {
   "cell_type": "markdown",
   "metadata": {},
   "source": [
    "Exploring different suburbs for the 3 different cities, there appeared to be some suburbs where salaries offered were significantly lower in all three cities (South West for Sdyney, Western suburbs in Melbourne and Bayside/Eastern Suburbs for Brisbane). However the differences between other areas of each of the 3 cities seemed to be significantly lower.\n",
    "\n",
    "The lowest paying \"sub location\"  was South West / MS Corridor in Sydney when comparing all locations, followed by Western Suburbs in Melbourne.\n",
    "\n",
    "The highest paying suburt is surprisingly Southern Suburbs and Sutherland Shire in Sydney - We would have expected this to be either the CBD or North Shore.\n"
   ]
  },
  {
   "cell_type": "code",
   "execution_count": 18,
   "metadata": {
    "scrolled": false
   },
   "outputs": [
    {
     "data": {
      "text/plain": [
       "<matplotlib.axes._subplots.AxesSubplot at 0x1ea95a0e2e8>"
      ]
     },
     "execution_count": 18,
     "metadata": {},
     "output_type": "execute_result"
    },
    {
     "data": {
      "image/png": "[encoded data removed]",
      "text/plain": [
       "<Figure size 1080x1080 with 1 Axes>"
      ]
     },
     "metadata": {
      "needs_background": "light"
     },
     "output_type": "display_data"
    }
   ],
   "source": [
    "data.boxplot(column='salary_cleaned', by=['job_categorised','job_type'], figsize=(15,15),rot=90,grid=False)"
   ]
  },
  {
   "cell_type": "markdown",
   "metadata": {},
   "source": [
    "Lastly, we have a look at a box plot broken down by job categories and job types.\n",
    "\n",
    "We notice that most of the outliars tend to be from the higher end of the salary scale. This is expected considering Salary was positively skewed as shown in our first graph.\n",
    "The Exception to this pattern was Contract Data Analyst roles and Fulltime Data Scientist roles.\n",
    "\n",
    "Contract Business Intelligence, Contract Data Engineer and Contract Senior Data Scientist had the wides ranges in terms of annual salary. As a matter of fact, it looks like contract roles did exhibit higher bigger ranges of salary compared to full time roles on average."
   ]
  }
 ],
 "metadata": {
  "kernelspec": {
   "display_name": "Python 3",
   "language": "python",
   "name": "python3"
  },
  "language_info": {
   "codemirror_mode": {
    "name": "ipython",
    "version": 3
   },
   "file_extension": ".py",
   "mimetype": "text/x-python",
   "name": "python",
   "nbconvert_exporter": "python",
   "pygments_lexer": "ipython3",
   "version": "3.7.3"
  }
 },
 "nbformat": 4,
 "nbformat_minor": 2
}
